{
 "cells": [
  {
   "cell_type": "code",
   "execution_count": 1,
   "id": "4195a16d-3a5a-4530-bd33-78ec2179ca7e",
   "metadata": {},
   "outputs": [],
   "source": [
    "import pandas as pd"
   ]
  },
  {
   "cell_type": "code",
   "execution_count": 2,
   "id": "4c2c509f-c985-467d-9474-1777b5f4320a",
   "metadata": {},
   "outputs": [
    {
     "data": {
      "text/html": [
       "<div>\n",
       "<style scoped>\n",
       "    .dataframe tbody tr th:only-of-type {\n",
       "        vertical-align: middle;\n",
       "    }\n",
       "\n",
       "    .dataframe tbody tr th {\n",
       "        vertical-align: top;\n",
       "    }\n",
       "\n",
       "    .dataframe thead th {\n",
       "        text-align: right;\n",
       "    }\n",
       "</style>\n",
       "<table border=\"1\" class=\"dataframe\">\n",
       "  <thead>\n",
       "    <tr style=\"text-align: right;\">\n",
       "      <th></th>\n",
       "      <th>EmpID</th>\n",
       "      <th>Age</th>\n",
       "      <th>AgeGroup</th>\n",
       "      <th>Attrition</th>\n",
       "      <th>BusinessTravel</th>\n",
       "      <th>DailyRate</th>\n",
       "      <th>Department</th>\n",
       "      <th>DistanceFromHome</th>\n",
       "      <th>Education</th>\n",
       "      <th>EducationField</th>\n",
       "      <th>...</th>\n",
       "      <th>RelationshipSatisfaction</th>\n",
       "      <th>StandardHours</th>\n",
       "      <th>StockOptionLevel</th>\n",
       "      <th>TotalWorkingYears</th>\n",
       "      <th>TrainingTimesLastYear</th>\n",
       "      <th>WorkLifeBalance</th>\n",
       "      <th>YearsAtCompany</th>\n",
       "      <th>YearsInCurrentRole</th>\n",
       "      <th>YearsSinceLastPromotion</th>\n",
       "      <th>YearsWithCurrManager</th>\n",
       "    </tr>\n",
       "  </thead>\n",
       "  <tbody>\n",
       "    <tr>\n",
       "      <th>0</th>\n",
       "      <td>RM297</td>\n",
       "      <td>18</td>\n",
       "      <td>18-25</td>\n",
       "      <td>Yes</td>\n",
       "      <td>Travel_Rarely</td>\n",
       "      <td>230</td>\n",
       "      <td>Research &amp; Development</td>\n",
       "      <td>3</td>\n",
       "      <td>3</td>\n",
       "      <td>Life Sciences</td>\n",
       "      <td>...</td>\n",
       "      <td>3</td>\n",
       "      <td>80</td>\n",
       "      <td>0</td>\n",
       "      <td>0</td>\n",
       "      <td>2</td>\n",
       "      <td>3</td>\n",
       "      <td>0</td>\n",
       "      <td>0</td>\n",
       "      <td>0</td>\n",
       "      <td>0.0</td>\n",
       "    </tr>\n",
       "    <tr>\n",
       "      <th>1</th>\n",
       "      <td>RM302</td>\n",
       "      <td>18</td>\n",
       "      <td>18-25</td>\n",
       "      <td>No</td>\n",
       "      <td>Travel_Rarely</td>\n",
       "      <td>812</td>\n",
       "      <td>Sales</td>\n",
       "      <td>10</td>\n",
       "      <td>3</td>\n",
       "      <td>Medical</td>\n",
       "      <td>...</td>\n",
       "      <td>1</td>\n",
       "      <td>80</td>\n",
       "      <td>0</td>\n",
       "      <td>0</td>\n",
       "      <td>2</td>\n",
       "      <td>3</td>\n",
       "      <td>0</td>\n",
       "      <td>0</td>\n",
       "      <td>0</td>\n",
       "      <td>0.0</td>\n",
       "    </tr>\n",
       "    <tr>\n",
       "      <th>2</th>\n",
       "      <td>RM458</td>\n",
       "      <td>18</td>\n",
       "      <td>18-25</td>\n",
       "      <td>Yes</td>\n",
       "      <td>Travel_Frequently</td>\n",
       "      <td>1306</td>\n",
       "      <td>Sales</td>\n",
       "      <td>5</td>\n",
       "      <td>3</td>\n",
       "      <td>Marketing</td>\n",
       "      <td>...</td>\n",
       "      <td>4</td>\n",
       "      <td>80</td>\n",
       "      <td>0</td>\n",
       "      <td>0</td>\n",
       "      <td>3</td>\n",
       "      <td>3</td>\n",
       "      <td>0</td>\n",
       "      <td>0</td>\n",
       "      <td>0</td>\n",
       "      <td>0.0</td>\n",
       "    </tr>\n",
       "    <tr>\n",
       "      <th>3</th>\n",
       "      <td>RM728</td>\n",
       "      <td>18</td>\n",
       "      <td>18-25</td>\n",
       "      <td>No</td>\n",
       "      <td>Non-Travel</td>\n",
       "      <td>287</td>\n",
       "      <td>Research &amp; Development</td>\n",
       "      <td>5</td>\n",
       "      <td>2</td>\n",
       "      <td>Life Sciences</td>\n",
       "      <td>...</td>\n",
       "      <td>4</td>\n",
       "      <td>80</td>\n",
       "      <td>0</td>\n",
       "      <td>0</td>\n",
       "      <td>2</td>\n",
       "      <td>3</td>\n",
       "      <td>0</td>\n",
       "      <td>0</td>\n",
       "      <td>0</td>\n",
       "      <td>0.0</td>\n",
       "    </tr>\n",
       "    <tr>\n",
       "      <th>4</th>\n",
       "      <td>RM829</td>\n",
       "      <td>18</td>\n",
       "      <td>18-25</td>\n",
       "      <td>Yes</td>\n",
       "      <td>Non-Travel</td>\n",
       "      <td>247</td>\n",
       "      <td>Research &amp; Development</td>\n",
       "      <td>8</td>\n",
       "      <td>1</td>\n",
       "      <td>Medical</td>\n",
       "      <td>...</td>\n",
       "      <td>4</td>\n",
       "      <td>80</td>\n",
       "      <td>0</td>\n",
       "      <td>0</td>\n",
       "      <td>0</td>\n",
       "      <td>3</td>\n",
       "      <td>0</td>\n",
       "      <td>0</td>\n",
       "      <td>0</td>\n",
       "      <td>0.0</td>\n",
       "    </tr>\n",
       "  </tbody>\n",
       "</table>\n",
       "<p>5 rows × 38 columns</p>\n",
       "</div>"
      ],
      "text/plain": [
       "   EmpID  Age AgeGroup Attrition     BusinessTravel  DailyRate  \\\n",
       "0  RM297   18    18-25       Yes      Travel_Rarely        230   \n",
       "1  RM302   18    18-25        No      Travel_Rarely        812   \n",
       "2  RM458   18    18-25       Yes  Travel_Frequently       1306   \n",
       "3  RM728   18    18-25        No         Non-Travel        287   \n",
       "4  RM829   18    18-25       Yes         Non-Travel        247   \n",
       "\n",
       "               Department  DistanceFromHome  Education EducationField  ...  \\\n",
       "0  Research & Development                 3          3  Life Sciences  ...   \n",
       "1                   Sales                10          3        Medical  ...   \n",
       "2                   Sales                 5          3      Marketing  ...   \n",
       "3  Research & Development                 5          2  Life Sciences  ...   \n",
       "4  Research & Development                 8          1        Medical  ...   \n",
       "\n",
       "   RelationshipSatisfaction  StandardHours  StockOptionLevel  \\\n",
       "0                         3             80                 0   \n",
       "1                         1             80                 0   \n",
       "2                         4             80                 0   \n",
       "3                         4             80                 0   \n",
       "4                         4             80                 0   \n",
       "\n",
       "  TotalWorkingYears  TrainingTimesLastYear  WorkLifeBalance  YearsAtCompany  \\\n",
       "0                 0                      2                3               0   \n",
       "1                 0                      2                3               0   \n",
       "2                 0                      3                3               0   \n",
       "3                 0                      2                3               0   \n",
       "4                 0                      0                3               0   \n",
       "\n",
       "  YearsInCurrentRole  YearsSinceLastPromotion YearsWithCurrManager  \n",
       "0                  0                        0                  0.0  \n",
       "1                  0                        0                  0.0  \n",
       "2                  0                        0                  0.0  \n",
       "3                  0                        0                  0.0  \n",
       "4                  0                        0                  0.0  \n",
       "\n",
       "[5 rows x 38 columns]"
      ]
     },
     "execution_count": 2,
     "metadata": {},
     "output_type": "execute_result"
    }
   ],
   "source": [
    "HR_Analytics= pd.read_csv('HR_Analytics.csv')\n",
    "HR_Analytics.head()"
   ]
  },
  {
   "cell_type": "code",
   "execution_count": 3,
   "id": "c2277a49-d9a6-4b9c-bc9d-eabec02981a3",
   "metadata": {},
   "outputs": [
    {
     "data": {
      "text/plain": [
       "(1480, 38)"
      ]
     },
     "execution_count": 3,
     "metadata": {},
     "output_type": "execute_result"
    }
   ],
   "source": [
    "HR_Analytics.shape"
   ]
  },
  {
   "cell_type": "code",
   "execution_count": 4,
   "id": "77e4e074-c9ba-4312-9915-0aa00e616cfe",
   "metadata": {},
   "outputs": [
    {
     "name": "stdout",
     "output_type": "stream",
     "text": [
      "<class 'pandas.core.frame.DataFrame'>\n",
      "RangeIndex: 1480 entries, 0 to 1479\n",
      "Data columns (total 38 columns):\n",
      " #   Column                    Non-Null Count  Dtype  \n",
      "---  ------                    --------------  -----  \n",
      " 0   EmpID                     1480 non-null   object \n",
      " 1   Age                       1480 non-null   int64  \n",
      " 2   AgeGroup                  1480 non-null   object \n",
      " 3   Attrition                 1480 non-null   object \n",
      " 4   BusinessTravel            1480 non-null   object \n",
      " 5   DailyRate                 1480 non-null   int64  \n",
      " 6   Department                1480 non-null   object \n",
      " 7   DistanceFromHome          1480 non-null   int64  \n",
      " 8   Education                 1480 non-null   int64  \n",
      " 9   EducationField            1480 non-null   object \n",
      " 10  EmployeeCount             1480 non-null   int64  \n",
      " 11  EmployeeNumber            1480 non-null   int64  \n",
      " 12  EnvironmentSatisfaction   1480 non-null   int64  \n",
      " 13  Gender                    1480 non-null   object \n",
      " 14  HourlyRate                1480 non-null   int64  \n",
      " 15  JobInvolvement            1480 non-null   int64  \n",
      " 16  JobLevel                  1480 non-null   int64  \n",
      " 17  JobRole                   1480 non-null   object \n",
      " 18  JobSatisfaction           1480 non-null   int64  \n",
      " 19  MaritalStatus             1480 non-null   object \n",
      " 20  MonthlyIncome             1480 non-null   int64  \n",
      " 21  SalarySlab                1480 non-null   object \n",
      " 22  MonthlyRate               1480 non-null   int64  \n",
      " 23  NumCompaniesWorked        1480 non-null   int64  \n",
      " 24  Over18                    1480 non-null   object \n",
      " 25  OverTime                  1480 non-null   object \n",
      " 26  PercentSalaryHike         1480 non-null   int64  \n",
      " 27  PerformanceRating         1480 non-null   int64  \n",
      " 28  RelationshipSatisfaction  1480 non-null   int64  \n",
      " 29  StandardHours             1480 non-null   int64  \n",
      " 30  StockOptionLevel          1480 non-null   int64  \n",
      " 31  TotalWorkingYears         1480 non-null   int64  \n",
      " 32  TrainingTimesLastYear     1480 non-null   int64  \n",
      " 33  WorkLifeBalance           1480 non-null   int64  \n",
      " 34  YearsAtCompany            1480 non-null   int64  \n",
      " 35  YearsInCurrentRole        1480 non-null   int64  \n",
      " 36  YearsSinceLastPromotion   1480 non-null   int64  \n",
      " 37  YearsWithCurrManager      1423 non-null   float64\n",
      "dtypes: float64(1), int64(25), object(12)\n",
      "memory usage: 439.5+ KB\n"
     ]
    }
   ],
   "source": [
    "HR_Analytics.info()"
   ]
  },
  {
   "cell_type": "code",
   "execution_count": 5,
   "id": "8c50f441-f676-4c6f-9ad6-0667454a6b48",
   "metadata": {},
   "outputs": [
    {
     "data": {
      "text/plain": [
       "EmpID                        0\n",
       "Age                          0\n",
       "AgeGroup                     0\n",
       "Attrition                    0\n",
       "BusinessTravel               0\n",
       "DailyRate                    0\n",
       "Department                   0\n",
       "DistanceFromHome             0\n",
       "Education                    0\n",
       "EducationField               0\n",
       "EmployeeCount                0\n",
       "EmployeeNumber               0\n",
       "EnvironmentSatisfaction      0\n",
       "Gender                       0\n",
       "HourlyRate                   0\n",
       "JobInvolvement               0\n",
       "JobLevel                     0\n",
       "JobRole                      0\n",
       "JobSatisfaction              0\n",
       "MaritalStatus                0\n",
       "MonthlyIncome                0\n",
       "SalarySlab                   0\n",
       "MonthlyRate                  0\n",
       "NumCompaniesWorked           0\n",
       "Over18                       0\n",
       "OverTime                     0\n",
       "PercentSalaryHike            0\n",
       "PerformanceRating            0\n",
       "RelationshipSatisfaction     0\n",
       "StandardHours                0\n",
       "StockOptionLevel             0\n",
       "TotalWorkingYears            0\n",
       "TrainingTimesLastYear        0\n",
       "WorkLifeBalance              0\n",
       "YearsAtCompany               0\n",
       "YearsInCurrentRole           0\n",
       "YearsSinceLastPromotion      0\n",
       "YearsWithCurrManager        57\n",
       "dtype: int64"
      ]
     },
     "execution_count": 5,
     "metadata": {},
     "output_type": "execute_result"
    }
   ],
   "source": [
    "HR_Analytics.isnull().sum()"
   ]
  },
  {
   "cell_type": "code",
   "execution_count": 6,
   "id": "57e87195-a29f-44c3-b0df-a82e8abcf491",
   "metadata": {},
   "outputs": [],
   "source": [
    "HR_Analytics['YearsWithCurrManager']=HR_Analytics['YearsWithCurrManager'].fillna('unknown')"
   ]
  },
  {
   "cell_type": "code",
   "execution_count": 7,
   "id": "0663991f-d1cf-4ebf-8f25-25b57fcb78eb",
   "metadata": {},
   "outputs": [
    {
     "data": {
      "text/plain": [
       "EmpID                       0\n",
       "Age                         0\n",
       "AgeGroup                    0\n",
       "Attrition                   0\n",
       "BusinessTravel              0\n",
       "DailyRate                   0\n",
       "Department                  0\n",
       "DistanceFromHome            0\n",
       "Education                   0\n",
       "EducationField              0\n",
       "EmployeeCount               0\n",
       "EmployeeNumber              0\n",
       "EnvironmentSatisfaction     0\n",
       "Gender                      0\n",
       "HourlyRate                  0\n",
       "JobInvolvement              0\n",
       "JobLevel                    0\n",
       "JobRole                     0\n",
       "JobSatisfaction             0\n",
       "MaritalStatus               0\n",
       "MonthlyIncome               0\n",
       "SalarySlab                  0\n",
       "MonthlyRate                 0\n",
       "NumCompaniesWorked          0\n",
       "Over18                      0\n",
       "OverTime                    0\n",
       "PercentSalaryHike           0\n",
       "PerformanceRating           0\n",
       "RelationshipSatisfaction    0\n",
       "StandardHours               0\n",
       "StockOptionLevel            0\n",
       "TotalWorkingYears           0\n",
       "TrainingTimesLastYear       0\n",
       "WorkLifeBalance             0\n",
       "YearsAtCompany              0\n",
       "YearsInCurrentRole          0\n",
       "YearsSinceLastPromotion     0\n",
       "YearsWithCurrManager        0\n",
       "dtype: int64"
      ]
     },
     "execution_count": 7,
     "metadata": {},
     "output_type": "execute_result"
    }
   ],
   "source": [
    "HR_Analytics.isnull().sum()"
   ]
  },
  {
   "cell_type": "code",
   "execution_count": 8,
   "id": "8affc38c-cdc6-4c4b-b603-d785d5341ab6",
   "metadata": {},
   "outputs": [
    {
     "data": {
      "text/plain": [
       "7"
      ]
     },
     "execution_count": 8,
     "metadata": {},
     "output_type": "execute_result"
    }
   ],
   "source": [
    "HR_Analytics.duplicated().sum()"
   ]
  },
  {
   "cell_type": "code",
   "execution_count": 9,
   "id": "2e4c208e-9a5d-4a30-b663-67b7110cd673",
   "metadata": {},
   "outputs": [
    {
     "data": {
      "text/html": [
       "<div>\n",
       "<style scoped>\n",
       "    .dataframe tbody tr th:only-of-type {\n",
       "        vertical-align: middle;\n",
       "    }\n",
       "\n",
       "    .dataframe tbody tr th {\n",
       "        vertical-align: top;\n",
       "    }\n",
       "\n",
       "    .dataframe thead th {\n",
       "        text-align: right;\n",
       "    }\n",
       "</style>\n",
       "<table border=\"1\" class=\"dataframe\">\n",
       "  <thead>\n",
       "    <tr style=\"text-align: right;\">\n",
       "      <th></th>\n",
       "      <th>EmpID</th>\n",
       "      <th>Age</th>\n",
       "      <th>AgeGroup</th>\n",
       "      <th>Attrition</th>\n",
       "      <th>BusinessTravel</th>\n",
       "      <th>DailyRate</th>\n",
       "      <th>Department</th>\n",
       "      <th>DistanceFromHome</th>\n",
       "      <th>Education</th>\n",
       "      <th>EducationField</th>\n",
       "      <th>...</th>\n",
       "      <th>RelationshipSatisfaction</th>\n",
       "      <th>StandardHours</th>\n",
       "      <th>StockOptionLevel</th>\n",
       "      <th>TotalWorkingYears</th>\n",
       "      <th>TrainingTimesLastYear</th>\n",
       "      <th>WorkLifeBalance</th>\n",
       "      <th>YearsAtCompany</th>\n",
       "      <th>YearsInCurrentRole</th>\n",
       "      <th>YearsSinceLastPromotion</th>\n",
       "      <th>YearsWithCurrManager</th>\n",
       "    </tr>\n",
       "  </thead>\n",
       "  <tbody>\n",
       "    <tr>\n",
       "      <th>210</th>\n",
       "      <td>RM1468</td>\n",
       "      <td>27</td>\n",
       "      <td>26-35</td>\n",
       "      <td>No</td>\n",
       "      <td>Travel_Rarely</td>\n",
       "      <td>155</td>\n",
       "      <td>Research &amp; Development</td>\n",
       "      <td>4</td>\n",
       "      <td>3</td>\n",
       "      <td>Life Sciences</td>\n",
       "      <td>...</td>\n",
       "      <td>2</td>\n",
       "      <td>80</td>\n",
       "      <td>1</td>\n",
       "      <td>6</td>\n",
       "      <td>0</td>\n",
       "      <td>3</td>\n",
       "      <td>6</td>\n",
       "      <td>2</td>\n",
       "      <td>0</td>\n",
       "      <td>3.0</td>\n",
       "    </tr>\n",
       "    <tr>\n",
       "      <th>211</th>\n",
       "      <td>RM1468</td>\n",
       "      <td>27</td>\n",
       "      <td>26-35</td>\n",
       "      <td>No</td>\n",
       "      <td>Travel_Rarely</td>\n",
       "      <td>155</td>\n",
       "      <td>Research &amp; Development</td>\n",
       "      <td>4</td>\n",
       "      <td>3</td>\n",
       "      <td>Life Sciences</td>\n",
       "      <td>...</td>\n",
       "      <td>2</td>\n",
       "      <td>80</td>\n",
       "      <td>1</td>\n",
       "      <td>6</td>\n",
       "      <td>0</td>\n",
       "      <td>3</td>\n",
       "      <td>6</td>\n",
       "      <td>2</td>\n",
       "      <td>0</td>\n",
       "      <td>3.0</td>\n",
       "    </tr>\n",
       "    <tr>\n",
       "      <th>327</th>\n",
       "      <td>RM1461</td>\n",
       "      <td>29</td>\n",
       "      <td>26-35</td>\n",
       "      <td>No</td>\n",
       "      <td>Travel_Rarely</td>\n",
       "      <td>468</td>\n",
       "      <td>Research &amp; Development</td>\n",
       "      <td>28</td>\n",
       "      <td>4</td>\n",
       "      <td>Medical</td>\n",
       "      <td>...</td>\n",
       "      <td>2</td>\n",
       "      <td>80</td>\n",
       "      <td>0</td>\n",
       "      <td>5</td>\n",
       "      <td>3</td>\n",
       "      <td>1</td>\n",
       "      <td>5</td>\n",
       "      <td>4</td>\n",
       "      <td>0</td>\n",
       "      <td>4.0</td>\n",
       "    </tr>\n",
       "    <tr>\n",
       "      <th>328</th>\n",
       "      <td>RM1461</td>\n",
       "      <td>29</td>\n",
       "      <td>26-35</td>\n",
       "      <td>No</td>\n",
       "      <td>Travel_Rarely</td>\n",
       "      <td>468</td>\n",
       "      <td>Research &amp; Development</td>\n",
       "      <td>28</td>\n",
       "      <td>4</td>\n",
       "      <td>Medical</td>\n",
       "      <td>...</td>\n",
       "      <td>2</td>\n",
       "      <td>80</td>\n",
       "      <td>0</td>\n",
       "      <td>5</td>\n",
       "      <td>3</td>\n",
       "      <td>1</td>\n",
       "      <td>5</td>\n",
       "      <td>4</td>\n",
       "      <td>0</td>\n",
       "      <td>4.0</td>\n",
       "    </tr>\n",
       "    <tr>\n",
       "      <th>457</th>\n",
       "      <td>RM1464</td>\n",
       "      <td>31</td>\n",
       "      <td>26-35</td>\n",
       "      <td>No</td>\n",
       "      <td>Non-Travel</td>\n",
       "      <td>325</td>\n",
       "      <td>Research &amp; Development</td>\n",
       "      <td>5</td>\n",
       "      <td>3</td>\n",
       "      <td>Medical</td>\n",
       "      <td>...</td>\n",
       "      <td>2</td>\n",
       "      <td>80</td>\n",
       "      <td>0</td>\n",
       "      <td>10</td>\n",
       "      <td>2</td>\n",
       "      <td>3</td>\n",
       "      <td>9</td>\n",
       "      <td>4</td>\n",
       "      <td>1</td>\n",
       "      <td>7.0</td>\n",
       "    </tr>\n",
       "    <tr>\n",
       "      <th>458</th>\n",
       "      <td>RM1464</td>\n",
       "      <td>31</td>\n",
       "      <td>26-35</td>\n",
       "      <td>No</td>\n",
       "      <td>Non-Travel</td>\n",
       "      <td>325</td>\n",
       "      <td>Research &amp; Development</td>\n",
       "      <td>5</td>\n",
       "      <td>3</td>\n",
       "      <td>Medical</td>\n",
       "      <td>...</td>\n",
       "      <td>2</td>\n",
       "      <td>80</td>\n",
       "      <td>0</td>\n",
       "      <td>10</td>\n",
       "      <td>2</td>\n",
       "      <td>3</td>\n",
       "      <td>9</td>\n",
       "      <td>4</td>\n",
       "      <td>1</td>\n",
       "      <td>7.0</td>\n",
       "    </tr>\n",
       "    <tr>\n",
       "      <th>654</th>\n",
       "      <td>RM1470</td>\n",
       "      <td>34</td>\n",
       "      <td>26-35</td>\n",
       "      <td>No</td>\n",
       "      <td>TravelRarely</td>\n",
       "      <td>628</td>\n",
       "      <td>Research &amp; Development</td>\n",
       "      <td>8</td>\n",
       "      <td>3</td>\n",
       "      <td>Medical</td>\n",
       "      <td>...</td>\n",
       "      <td>1</td>\n",
       "      <td>80</td>\n",
       "      <td>0</td>\n",
       "      <td>6</td>\n",
       "      <td>3</td>\n",
       "      <td>4</td>\n",
       "      <td>4</td>\n",
       "      <td>3</td>\n",
       "      <td>1</td>\n",
       "      <td>2.0</td>\n",
       "    </tr>\n",
       "    <tr>\n",
       "      <th>655</th>\n",
       "      <td>RM1470</td>\n",
       "      <td>34</td>\n",
       "      <td>26-35</td>\n",
       "      <td>No</td>\n",
       "      <td>TravelRarely</td>\n",
       "      <td>628</td>\n",
       "      <td>Research &amp; Development</td>\n",
       "      <td>8</td>\n",
       "      <td>3</td>\n",
       "      <td>Medical</td>\n",
       "      <td>...</td>\n",
       "      <td>1</td>\n",
       "      <td>80</td>\n",
       "      <td>0</td>\n",
       "      <td>6</td>\n",
       "      <td>3</td>\n",
       "      <td>4</td>\n",
       "      <td>4</td>\n",
       "      <td>3</td>\n",
       "      <td>1</td>\n",
       "      <td>2.0</td>\n",
       "    </tr>\n",
       "    <tr>\n",
       "      <th>952</th>\n",
       "      <td>RM1463</td>\n",
       "      <td>39</td>\n",
       "      <td>36-45</td>\n",
       "      <td>No</td>\n",
       "      <td>Travel_Rarely</td>\n",
       "      <td>722</td>\n",
       "      <td>Sales</td>\n",
       "      <td>24</td>\n",
       "      <td>1</td>\n",
       "      <td>Marketing</td>\n",
       "      <td>...</td>\n",
       "      <td>1</td>\n",
       "      <td>80</td>\n",
       "      <td>1</td>\n",
       "      <td>21</td>\n",
       "      <td>2</td>\n",
       "      <td>2</td>\n",
       "      <td>20</td>\n",
       "      <td>9</td>\n",
       "      <td>9</td>\n",
       "      <td>6.0</td>\n",
       "    </tr>\n",
       "    <tr>\n",
       "      <th>954</th>\n",
       "      <td>RM1463</td>\n",
       "      <td>39</td>\n",
       "      <td>36-45</td>\n",
       "      <td>No</td>\n",
       "      <td>Travel_Rarely</td>\n",
       "      <td>722</td>\n",
       "      <td>Sales</td>\n",
       "      <td>24</td>\n",
       "      <td>1</td>\n",
       "      <td>Marketing</td>\n",
       "      <td>...</td>\n",
       "      <td>1</td>\n",
       "      <td>80</td>\n",
       "      <td>1</td>\n",
       "      <td>21</td>\n",
       "      <td>2</td>\n",
       "      <td>2</td>\n",
       "      <td>20</td>\n",
       "      <td>9</td>\n",
       "      <td>9</td>\n",
       "      <td>6.0</td>\n",
       "    </tr>\n",
       "    <tr>\n",
       "      <th>1304</th>\n",
       "      <td>RM1469</td>\n",
       "      <td>49</td>\n",
       "      <td>46-55</td>\n",
       "      <td>No</td>\n",
       "      <td>Travel_Frequently</td>\n",
       "      <td>1023</td>\n",
       "      <td>Sales</td>\n",
       "      <td>2</td>\n",
       "      <td>3</td>\n",
       "      <td>Medical</td>\n",
       "      <td>...</td>\n",
       "      <td>4</td>\n",
       "      <td>80</td>\n",
       "      <td>0</td>\n",
       "      <td>17</td>\n",
       "      <td>3</td>\n",
       "      <td>2</td>\n",
       "      <td>9</td>\n",
       "      <td>6</td>\n",
       "      <td>0</td>\n",
       "      <td>8.0</td>\n",
       "    </tr>\n",
       "    <tr>\n",
       "      <th>1305</th>\n",
       "      <td>RM1469</td>\n",
       "      <td>49</td>\n",
       "      <td>46-55</td>\n",
       "      <td>No</td>\n",
       "      <td>Travel_Frequently</td>\n",
       "      <td>1023</td>\n",
       "      <td>Sales</td>\n",
       "      <td>2</td>\n",
       "      <td>3</td>\n",
       "      <td>Medical</td>\n",
       "      <td>...</td>\n",
       "      <td>4</td>\n",
       "      <td>80</td>\n",
       "      <td>0</td>\n",
       "      <td>17</td>\n",
       "      <td>3</td>\n",
       "      <td>2</td>\n",
       "      <td>9</td>\n",
       "      <td>6</td>\n",
       "      <td>0</td>\n",
       "      <td>8.0</td>\n",
       "    </tr>\n",
       "    <tr>\n",
       "      <th>1335</th>\n",
       "      <td>RM1462</td>\n",
       "      <td>50</td>\n",
       "      <td>46-55</td>\n",
       "      <td>Yes</td>\n",
       "      <td>Travel_Rarely</td>\n",
       "      <td>410</td>\n",
       "      <td>Sales</td>\n",
       "      <td>28</td>\n",
       "      <td>3</td>\n",
       "      <td>Marketing</td>\n",
       "      <td>...</td>\n",
       "      <td>2</td>\n",
       "      <td>80</td>\n",
       "      <td>1</td>\n",
       "      <td>20</td>\n",
       "      <td>3</td>\n",
       "      <td>3</td>\n",
       "      <td>3</td>\n",
       "      <td>2</td>\n",
       "      <td>2</td>\n",
       "      <td>0.0</td>\n",
       "    </tr>\n",
       "    <tr>\n",
       "      <th>1336</th>\n",
       "      <td>RM1462</td>\n",
       "      <td>50</td>\n",
       "      <td>46-55</td>\n",
       "      <td>Yes</td>\n",
       "      <td>Travel_Rarely</td>\n",
       "      <td>410</td>\n",
       "      <td>Sales</td>\n",
       "      <td>28</td>\n",
       "      <td>3</td>\n",
       "      <td>Marketing</td>\n",
       "      <td>...</td>\n",
       "      <td>2</td>\n",
       "      <td>80</td>\n",
       "      <td>1</td>\n",
       "      <td>20</td>\n",
       "      <td>3</td>\n",
       "      <td>3</td>\n",
       "      <td>3</td>\n",
       "      <td>2</td>\n",
       "      <td>2</td>\n",
       "      <td>0.0</td>\n",
       "    </tr>\n",
       "  </tbody>\n",
       "</table>\n",
       "<p>14 rows × 38 columns</p>\n",
       "</div>"
      ],
      "text/plain": [
       "       EmpID  Age AgeGroup Attrition     BusinessTravel  DailyRate  \\\n",
       "210   RM1468   27    26-35        No      Travel_Rarely        155   \n",
       "211   RM1468   27    26-35        No      Travel_Rarely        155   \n",
       "327   RM1461   29    26-35        No      Travel_Rarely        468   \n",
       "328   RM1461   29    26-35        No      Travel_Rarely        468   \n",
       "457   RM1464   31    26-35        No         Non-Travel        325   \n",
       "458   RM1464   31    26-35        No         Non-Travel        325   \n",
       "654   RM1470   34    26-35        No       TravelRarely        628   \n",
       "655   RM1470   34    26-35        No       TravelRarely        628   \n",
       "952   RM1463   39    36-45        No      Travel_Rarely        722   \n",
       "954   RM1463   39    36-45        No      Travel_Rarely        722   \n",
       "1304  RM1469   49    46-55        No  Travel_Frequently       1023   \n",
       "1305  RM1469   49    46-55        No  Travel_Frequently       1023   \n",
       "1335  RM1462   50    46-55       Yes      Travel_Rarely        410   \n",
       "1336  RM1462   50    46-55       Yes      Travel_Rarely        410   \n",
       "\n",
       "                  Department  DistanceFromHome  Education EducationField  ...  \\\n",
       "210   Research & Development                 4          3  Life Sciences  ...   \n",
       "211   Research & Development                 4          3  Life Sciences  ...   \n",
       "327   Research & Development                28          4        Medical  ...   \n",
       "328   Research & Development                28          4        Medical  ...   \n",
       "457   Research & Development                 5          3        Medical  ...   \n",
       "458   Research & Development                 5          3        Medical  ...   \n",
       "654   Research & Development                 8          3        Medical  ...   \n",
       "655   Research & Development                 8          3        Medical  ...   \n",
       "952                    Sales                24          1      Marketing  ...   \n",
       "954                    Sales                24          1      Marketing  ...   \n",
       "1304                   Sales                 2          3        Medical  ...   \n",
       "1305                   Sales                 2          3        Medical  ...   \n",
       "1335                   Sales                28          3      Marketing  ...   \n",
       "1336                   Sales                28          3      Marketing  ...   \n",
       "\n",
       "      RelationshipSatisfaction  StandardHours  StockOptionLevel  \\\n",
       "210                          2             80                 1   \n",
       "211                          2             80                 1   \n",
       "327                          2             80                 0   \n",
       "328                          2             80                 0   \n",
       "457                          2             80                 0   \n",
       "458                          2             80                 0   \n",
       "654                          1             80                 0   \n",
       "655                          1             80                 0   \n",
       "952                          1             80                 1   \n",
       "954                          1             80                 1   \n",
       "1304                         4             80                 0   \n",
       "1305                         4             80                 0   \n",
       "1335                         2             80                 1   \n",
       "1336                         2             80                 1   \n",
       "\n",
       "     TotalWorkingYears  TrainingTimesLastYear  WorkLifeBalance  \\\n",
       "210                  6                      0                3   \n",
       "211                  6                      0                3   \n",
       "327                  5                      3                1   \n",
       "328                  5                      3                1   \n",
       "457                 10                      2                3   \n",
       "458                 10                      2                3   \n",
       "654                  6                      3                4   \n",
       "655                  6                      3                4   \n",
       "952                 21                      2                2   \n",
       "954                 21                      2                2   \n",
       "1304                17                      3                2   \n",
       "1305                17                      3                2   \n",
       "1335                20                      3                3   \n",
       "1336                20                      3                3   \n",
       "\n",
       "      YearsAtCompany YearsInCurrentRole  YearsSinceLastPromotion  \\\n",
       "210                6                  2                        0   \n",
       "211                6                  2                        0   \n",
       "327                5                  4                        0   \n",
       "328                5                  4                        0   \n",
       "457                9                  4                        1   \n",
       "458                9                  4                        1   \n",
       "654                4                  3                        1   \n",
       "655                4                  3                        1   \n",
       "952               20                  9                        9   \n",
       "954               20                  9                        9   \n",
       "1304               9                  6                        0   \n",
       "1305               9                  6                        0   \n",
       "1335               3                  2                        2   \n",
       "1336               3                  2                        2   \n",
       "\n",
       "     YearsWithCurrManager  \n",
       "210                   3.0  \n",
       "211                   3.0  \n",
       "327                   4.0  \n",
       "328                   4.0  \n",
       "457                   7.0  \n",
       "458                   7.0  \n",
       "654                   2.0  \n",
       "655                   2.0  \n",
       "952                   6.0  \n",
       "954                   6.0  \n",
       "1304                  8.0  \n",
       "1305                  8.0  \n",
       "1335                  0.0  \n",
       "1336                  0.0  \n",
       "\n",
       "[14 rows x 38 columns]"
      ]
     },
     "execution_count": 9,
     "metadata": {},
     "output_type": "execute_result"
    }
   ],
   "source": [
    "HR_Analytics[HR_Analytics.duplicated(keep=False)]"
   ]
  },
  {
   "cell_type": "code",
   "execution_count": 10,
   "id": "27584985-4c2a-404e-9f6a-72be12b140fc",
   "metadata": {},
   "outputs": [],
   "source": [
    "HR_Analytics= HR_Analytics.drop_duplicates()"
   ]
  },
  {
   "cell_type": "code",
   "execution_count": 11,
   "id": "6378ae2c-de87-4d85-b6e4-358499842437",
   "metadata": {},
   "outputs": [
    {
     "data": {
      "text/plain": [
       "0"
      ]
     },
     "execution_count": 11,
     "metadata": {},
     "output_type": "execute_result"
    }
   ],
   "source": [
    "HR_Analytics.duplicated().sum()"
   ]
  },
  {
   "cell_type": "code",
   "execution_count": 12,
   "id": "9f3bf36e-ca9e-4a7d-b5c5-de9beb716182",
   "metadata": {},
   "outputs": [
    {
     "data": {
      "text/plain": [
       "(1473, 38)"
      ]
     },
     "execution_count": 12,
     "metadata": {},
     "output_type": "execute_result"
    }
   ],
   "source": [
    "HR_Analytics.shape"
   ]
  },
  {
   "cell_type": "code",
   "execution_count": 13,
   "id": "b8e4ecaa-f727-43e2-b5a8-bace3cf897c9",
   "metadata": {},
   "outputs": [
    {
     "data": {
      "text/plain": [
       "EmpID                        True\n",
       "Age                         False\n",
       "AgeGroup                     True\n",
       "Attrition                    True\n",
       "BusinessTravel               True\n",
       "DailyRate                   False\n",
       "Department                   True\n",
       "DistanceFromHome            False\n",
       "Education                   False\n",
       "EducationField               True\n",
       "EmployeeCount               False\n",
       "EmployeeNumber              False\n",
       "EnvironmentSatisfaction     False\n",
       "Gender                       True\n",
       "HourlyRate                  False\n",
       "JobInvolvement              False\n",
       "JobLevel                    False\n",
       "JobRole                      True\n",
       "JobSatisfaction             False\n",
       "MaritalStatus                True\n",
       "MonthlyIncome               False\n",
       "SalarySlab                   True\n",
       "MonthlyRate                 False\n",
       "NumCompaniesWorked          False\n",
       "Over18                       True\n",
       "OverTime                     True\n",
       "PercentSalaryHike           False\n",
       "PerformanceRating           False\n",
       "RelationshipSatisfaction    False\n",
       "StandardHours               False\n",
       "StockOptionLevel            False\n",
       "TotalWorkingYears           False\n",
       "TrainingTimesLastYear       False\n",
       "WorkLifeBalance             False\n",
       "YearsAtCompany              False\n",
       "YearsInCurrentRole          False\n",
       "YearsSinceLastPromotion     False\n",
       "YearsWithCurrManager         True\n",
       "dtype: bool"
      ]
     },
     "execution_count": 13,
     "metadata": {},
     "output_type": "execute_result"
    }
   ],
   "source": [
    "HR_Analytics.dtypes == object"
   ]
  },
  {
   "cell_type": "code",
   "execution_count": 14,
   "id": "28318480-505f-4aa1-bc6e-dcdb9482b5fc",
   "metadata": {},
   "outputs": [],
   "source": [
    "HR_Analytics.drop(columns=['Over18', 'SalarySlab', 'EmployeeCount', 'StandardHours', 'EmployeeNumber'], inplace= True)"
   ]
  },
  {
   "cell_type": "code",
   "execution_count": 15,
   "id": "8e4a35f9-f0c0-4989-a4fa-b3aa9ab72d1c",
   "metadata": {},
   "outputs": [
    {
     "data": {
      "text/plain": [
       "Index(['EmpID', 'Age', 'AgeGroup', 'Attrition', 'BusinessTravel', 'DailyRate',\n",
       "       'Department', 'DistanceFromHome', 'Education', 'EducationField',\n",
       "       'EnvironmentSatisfaction', 'Gender', 'HourlyRate', 'JobInvolvement',\n",
       "       'JobLevel', 'JobRole', 'JobSatisfaction', 'MaritalStatus',\n",
       "       'MonthlyIncome', 'MonthlyRate', 'NumCompaniesWorked', 'OverTime',\n",
       "       'PercentSalaryHike', 'PerformanceRating', 'RelationshipSatisfaction',\n",
       "       'StockOptionLevel', 'TotalWorkingYears', 'TrainingTimesLastYear',\n",
       "       'WorkLifeBalance', 'YearsAtCompany', 'YearsInCurrentRole',\n",
       "       'YearsSinceLastPromotion', 'YearsWithCurrManager'],\n",
       "      dtype='object')"
      ]
     },
     "execution_count": 15,
     "metadata": {},
     "output_type": "execute_result"
    }
   ],
   "source": [
    "HR_Analytics.columns"
   ]
  },
  {
   "cell_type": "code",
   "execution_count": 16,
   "id": "0f3d977b-2b5b-4baa-b1dd-685dd58c9966",
   "metadata": {},
   "outputs": [
    {
     "data": {
      "text/plain": [
       "(1473, 33)"
      ]
     },
     "execution_count": 16,
     "metadata": {},
     "output_type": "execute_result"
    }
   ],
   "source": [
    "HR_Analytics.shape"
   ]
  },
  {
   "cell_type": "code",
   "execution_count": 17,
   "id": "2f822df2-bec3-424d-9f34-40ed28de3911",
   "metadata": {},
   "outputs": [
    {
     "data": {
      "text/plain": [
       "Index(['EmpID', 'Age', 'AgeGroup', 'Attrition', 'BusinessTravel', 'DailyRate',\n",
       "       'Department', 'DistanceFromHome', 'Education', 'EducationField',\n",
       "       'EnvironmentSatisfaction', 'Gender', 'HourlyRate', 'JobInvolvement',\n",
       "       'JobLevel', 'JobRole', 'JobSatisfaction', 'MaritalStatus',\n",
       "       'MonthlyIncome', 'MonthlyRate', 'NumCompaniesWorked', 'OverTime',\n",
       "       'PercentSalaryHike', 'PerformanceRating', 'RelationshipSatisfaction',\n",
       "       'StockOptionLevel', 'TotalWorkingYears', 'TrainingTimesLastYear',\n",
       "       'WorkLifeBalance', 'YearsAtCompany', 'YearsInCurrentRole',\n",
       "       'YearsSinceLastPromotion', 'YearsWithCurrManager'],\n",
       "      dtype='object')"
      ]
     },
     "execution_count": 17,
     "metadata": {},
     "output_type": "execute_result"
    }
   ],
   "source": [
    "HR_Analytics.columns"
   ]
  },
  {
   "cell_type": "code",
   "execution_count": 18,
   "id": "c36d686c-3182-4e22-a7e8-127a0c98be83",
   "metadata": {},
   "outputs": [
    {
     "data": {
      "text/plain": [
       "array([3, 2, 1, 4, 5], dtype=int64)"
      ]
     },
     "execution_count": 18,
     "metadata": {},
     "output_type": "execute_result"
    }
   ],
   "source": [
    "HR_Analytics['Education'].unique()"
   ]
  },
  {
   "cell_type": "code",
   "execution_count": 19,
   "id": "53fd2ccc-a4de-48fb-a065-2c5914e485cb",
   "metadata": {},
   "outputs": [],
   "source": [
    "education_map = {\n",
    "    1: 'Below College',\n",
    "    2: 'College',\n",
    "    3: 'Bachelor',\n",
    "    4: 'Master',\n",
    "    5: 'Doctor'\n",
    "}"
   ]
  },
  {
   "cell_type": "code",
   "execution_count": 20,
   "id": "a229fb0c-d41b-4fe1-9546-5057bad8b669",
   "metadata": {},
   "outputs": [],
   "source": [
    "HR_Analytics['Education_Level'] = HR_Analytics['Education'].map(education_map) "
   ]
  },
  {
   "cell_type": "code",
   "execution_count": 21,
   "id": "7881731d-1111-43ec-b15b-402905a7796d",
   "metadata": {},
   "outputs": [
    {
     "data": {
      "text/plain": [
       "array(['Bachelor', 'College', 'Below College', 'Master', 'Doctor'],\n",
       "      dtype=object)"
      ]
     },
     "execution_count": 21,
     "metadata": {},
     "output_type": "execute_result"
    }
   ],
   "source": [
    "HR_Analytics['Education_Level'].unique()"
   ]
  },
  {
   "cell_type": "code",
   "execution_count": 22,
   "id": "ef7eeb48-263c-4c64-9e22-85bfeb866eee",
   "metadata": {},
   "outputs": [],
   "source": [
    "HR_Analytics.rename(columns={'EnvironmentSatisfaction': 'EnvSatisfaction'}, inplace=True)\n"
   ]
  },
  {
   "cell_type": "code",
   "execution_count": 23,
   "id": "b5a75818-ff37-4c3f-9767-c1556a6e0fa1",
   "metadata": {},
   "outputs": [
    {
     "data": {
      "text/plain": [
       "array([1, 2, 3, 4, 5], dtype=int64)"
      ]
     },
     "execution_count": 23,
     "metadata": {},
     "output_type": "execute_result"
    }
   ],
   "source": [
    "HR_Analytics['JobLevel'].unique()"
   ]
  },
  {
   "cell_type": "code",
   "execution_count": 24,
   "id": "2b0cf2ac-f8b5-4f87-9b11-74ea5fd25013",
   "metadata": {},
   "outputs": [],
   "source": [
    "job_level_map = {\n",
    "    1: 'Junior',\n",
    "    2: 'Intermediate',\n",
    "    3: 'Senior',\n",
    "    4: 'Manager',\n",
    "    5: 'Senior Executive'\n",
    "}"
   ]
  },
  {
   "cell_type": "code",
   "execution_count": 25,
   "id": "f316c39d-a214-439d-8aea-a1911934f94a",
   "metadata": {},
   "outputs": [],
   "source": [
    "HR_Analytics['JobLevelLabel'] = HR_Analytics['JobLevel'].map(job_level_map)"
   ]
  },
  {
   "cell_type": "code",
   "execution_count": 26,
   "id": "b8f36fb3-9856-4df1-9490-8e6e73fa8934",
   "metadata": {},
   "outputs": [
    {
     "data": {
      "text/plain": [
       "array(['Junior', 'Intermediate', 'Senior', 'Manager', 'Senior Executive'],\n",
       "      dtype=object)"
      ]
     },
     "execution_count": 26,
     "metadata": {},
     "output_type": "execute_result"
    }
   ],
   "source": [
    "HR_Analytics['JobLevelLabel'].unique()"
   ]
  },
  {
   "cell_type": "code",
   "execution_count": 27,
   "id": "7e6d9911-03e5-4644-b3d3-cb90aec5a811",
   "metadata": {},
   "outputs": [
    {
     "data": {
      "text/plain": [
       "array([3, 2, 1, 4], dtype=int64)"
      ]
     },
     "execution_count": 27,
     "metadata": {},
     "output_type": "execute_result"
    }
   ],
   "source": [
    "HR_Analytics['JobInvolvement'].unique()"
   ]
  },
  {
   "cell_type": "code",
   "execution_count": 28,
   "id": "b5a825f3-4b54-4c36-b674-60ba5db0eeb6",
   "metadata": {},
   "outputs": [],
   "source": [
    "job_involve_map = {\n",
    "    1: 'Low',\n",
    "    2: 'Medium',\n",
    "    3: 'High',\n",
    "    4: 'Very High'\n",
    "}"
   ]
  },
  {
   "cell_type": "code",
   "execution_count": 29,
   "id": "fb984e22-72e7-4e54-b23c-861a38ec0175",
   "metadata": {},
   "outputs": [],
   "source": [
    "HR_Analytics['JobInvolveLabel'] = HR_Analytics['JobInvolvement'].map(job_level_map)"
   ]
  },
  {
   "cell_type": "code",
   "execution_count": 30,
   "id": "4e3dd566-9be7-429c-82de-51912112666f",
   "metadata": {},
   "outputs": [
    {
     "data": {
      "text/plain": [
       "array(['Senior', 'Intermediate', 'Junior', 'Manager'], dtype=object)"
      ]
     },
     "execution_count": 30,
     "metadata": {},
     "output_type": "execute_result"
    }
   ],
   "source": [
    "HR_Analytics['JobInvolveLabel'].unique()"
   ]
  },
  {
   "cell_type": "code",
   "execution_count": 31,
   "id": "421d8128-3662-45b9-9fe1-01ec8f11f150",
   "metadata": {},
   "outputs": [
    {
     "data": {
      "text/plain": [
       "array([3, 2, 4, 1], dtype=int64)"
      ]
     },
     "execution_count": 31,
     "metadata": {},
     "output_type": "execute_result"
    }
   ],
   "source": [
    "HR_Analytics['JobSatisfaction'].unique()"
   ]
  },
  {
   "cell_type": "code",
   "execution_count": 32,
   "id": "6bb0c948-0b05-4eb5-ad59-e771e2ad235d",
   "metadata": {},
   "outputs": [],
   "source": [
    "job_satisfaction_map = {\n",
    "    1: 'Poor',\n",
    "    2: 'Fair',\n",
    "    3: 'Good',\n",
    "    4: 'Very Good'\n",
    "}"
   ]
  },
  {
   "cell_type": "code",
   "execution_count": 33,
   "id": "03c28ef5-0235-4cce-9c4b-2fd7a4d5712b",
   "metadata": {},
   "outputs": [],
   "source": [
    "HR_Analytics.rename(columns={'JobSatisfaction': 'JobSatisfy_Level'}, inplace=True)\n",
    "HR_Analytics['JobSatisfy_Label'] = HR_Analytics['JobSatisfy_Level'].map(job_satisfaction_map)"
   ]
  },
  {
   "cell_type": "code",
   "execution_count": 34,
   "id": "12f23489-5d9b-49fa-8f68-cb2aa0653f35",
   "metadata": {},
   "outputs": [
    {
     "data": {
      "text/plain": [
       "array(['Good', 'Fair', 'Very Good', 'Poor'], dtype=object)"
      ]
     },
     "execution_count": 34,
     "metadata": {},
     "output_type": "execute_result"
    }
   ],
   "source": [
    "HR_Analytics['JobSatisfy_Label'].unique()"
   ]
  },
  {
   "cell_type": "code",
   "execution_count": 35,
   "id": "f3fa00e3-250e-4a08-8255-d9403bcfa416",
   "metadata": {},
   "outputs": [
    {
     "data": {
      "text/plain": [
       "array([3, 4], dtype=int64)"
      ]
     },
     "execution_count": 35,
     "metadata": {},
     "output_type": "execute_result"
    }
   ],
   "source": [
    "HR_Analytics['PerformanceRating'].unique()"
   ]
  },
  {
   "cell_type": "code",
   "execution_count": 36,
   "id": "34a82d17-e8d5-4937-a205-a95bf4dd2af8",
   "metadata": {},
   "outputs": [],
   "source": [
    "performance_score_map = {\n",
    "    3: 'Good',\n",
    "    4: 'Excellent'\n",
    "}"
   ]
  },
  {
   "cell_type": "code",
   "execution_count": 37,
   "id": "89aaa8b8-ae26-4988-82fe-213b6c418b8d",
   "metadata": {},
   "outputs": [],
   "source": [
    "HR_Analytics.rename(columns={'PerformanceRating': 'PerformanceScore'}, inplace=True)"
   ]
  },
  {
   "cell_type": "code",
   "execution_count": 38,
   "id": "717c6c27-00ab-49be-ae06-c9f6c9c4b4f7",
   "metadata": {},
   "outputs": [],
   "source": [
    "HR_Analytics['PerformanceLabel'] = HR_Analytics['PerformanceScore'].map(performance_score_map)"
   ]
  },
  {
   "cell_type": "code",
   "execution_count": 39,
   "id": "08d71d04-358a-4946-b307-b5e9231bff4e",
   "metadata": {},
   "outputs": [
    {
     "data": {
      "text/plain": [
       "array(['Good', 'Excellent'], dtype=object)"
      ]
     },
     "execution_count": 39,
     "metadata": {},
     "output_type": "execute_result"
    }
   ],
   "source": [
    "HR_Analytics['PerformanceLabel'].unique()"
   ]
  },
  {
   "cell_type": "code",
   "execution_count": 40,
   "id": "07d014fc-fd13-45f5-8d19-1f9eab16faa5",
   "metadata": {},
   "outputs": [
    {
     "data": {
      "text/plain": [
       "array([0, 2, 1, 3], dtype=int64)"
      ]
     },
     "execution_count": 40,
     "metadata": {},
     "output_type": "execute_result"
    }
   ],
   "source": [
    "HR_Analytics['StockOptionLevel'].unique()"
   ]
  },
  {
   "cell_type": "code",
   "execution_count": 41,
   "id": "89ab91d4-9c55-40f3-9d33-25e51eb4b4c1",
   "metadata": {},
   "outputs": [],
   "source": [
    "stock_option_map = {\n",
    "    0: 'No Stock Options',\n",
    "    1: 'Low Stock Options',\n",
    "    2: 'Medium Stock Options',\n",
    "    3: 'High Stock Options'\n",
    "}\n",
    "\n",
    "HR_Analytics['StockOptionLevel_Description'] = HR_Analytics['StockOptionLevel'].map(stock_option_map)"
   ]
  },
  {
   "cell_type": "code",
   "execution_count": 42,
   "id": "94ef2af5-34aa-4f7e-9fd2-2c1e1e761567",
   "metadata": {},
   "outputs": [
    {
     "data": {
      "text/plain": [
       "array(['No Stock Options', 'Medium Stock Options', 'Low Stock Options',\n",
       "       'High Stock Options'], dtype=object)"
      ]
     },
     "execution_count": 42,
     "metadata": {},
     "output_type": "execute_result"
    }
   ],
   "source": [
    "HR_Analytics['StockOptionLevel_Description'].unique()"
   ]
  },
  {
   "cell_type": "code",
   "execution_count": 43,
   "id": "4bf76f0f-4f16-43c8-820a-e7ce28da9a34",
   "metadata": {},
   "outputs": [
    {
     "data": {
      "text/plain": [
       "array([2, 3, 0, 5, 4, 6, 1], dtype=int64)"
      ]
     },
     "execution_count": 43,
     "metadata": {},
     "output_type": "execute_result"
    }
   ],
   "source": [
    "HR_Analytics['TrainingTimesLastYear'].unique()"
   ]
  },
  {
   "cell_type": "code",
   "execution_count": 44,
   "id": "c05797f2-bb16-486d-9d7f-009f54cf3180",
   "metadata": {},
   "outputs": [],
   "source": [
    "training_map = {\n",
    " 0: 'No Training',\n",
    "    1: 'Few',\n",
    "    2: 'Moderate',\n",
    "    3: 'Good',\n",
    "    4: 'Very Good',\n",
    "    5: 'Excellent',\n",
    "    6: 'Exceptional'\n",
    "}\n",
    "HR_Analytics['TrainingsLastYear_Label'] = HR_Analytics['TrainingTimesLastYear'].map(training_map)"
   ]
  },
  {
   "cell_type": "code",
   "execution_count": 45,
   "id": "67059aa4-46b6-427b-89e4-6e2243d3e014",
   "metadata": {},
   "outputs": [
    {
     "data": {
      "text/plain": [
       "array(['Moderate', 'Good', 'No Training', 'Excellent', 'Very Good',\n",
       "       'Exceptional', 'Few'], dtype=object)"
      ]
     },
     "execution_count": 45,
     "metadata": {},
     "output_type": "execute_result"
    }
   ],
   "source": [
    "HR_Analytics['TrainingsLastYear_Label'].unique()"
   ]
  },
  {
   "cell_type": "code",
   "execution_count": 46,
   "id": "a75d99c2-8545-4902-906c-c848fb77c883",
   "metadata": {},
   "outputs": [
    {
     "data": {
      "text/plain": [
       "array([3, 1, 4, 2], dtype=int64)"
      ]
     },
     "execution_count": 46,
     "metadata": {},
     "output_type": "execute_result"
    }
   ],
   "source": [
    "HR_Analytics['RelationshipSatisfaction'].unique()"
   ]
  },
  {
   "cell_type": "code",
   "execution_count": 47,
   "id": "6c8bc791-856d-4b4e-9e52-bd81a0e76229",
   "metadata": {},
   "outputs": [],
   "source": [
    "relation_map = {\n",
    "    1: 'Low',\n",
    "    2: 'Medium',\n",
    "    3: 'High',\n",
    "    4: 'Very High'\n",
    "}"
   ]
  },
  {
   "cell_type": "code",
   "execution_count": 48,
   "id": "235f7271-5759-4690-9d1a-57c6efd5b566",
   "metadata": {},
   "outputs": [],
   "source": [
    "HR_Analytics['RelationshipSatisfaction_Label'] = HR_Analytics['RelationshipSatisfaction'].map(training_map)"
   ]
  },
  {
   "cell_type": "code",
   "execution_count": 49,
   "id": "dab6f11c-d2e4-4050-83ed-26a747cdc54f",
   "metadata": {},
   "outputs": [
    {
     "data": {
      "text/plain": [
       "array(['Good', 'Few', 'Very Good', 'Moderate'], dtype=object)"
      ]
     },
     "execution_count": 49,
     "metadata": {},
     "output_type": "execute_result"
    }
   ],
   "source": [
    "HR_Analytics['RelationshipSatisfaction_Label'].unique()"
   ]
  },
  {
   "cell_type": "code",
   "execution_count": 50,
   "id": "767753b5-da47-41bd-916d-ae7c490ae14c",
   "metadata": {},
   "outputs": [
    {
     "data": {
      "text/plain": [
       "array([3, 4, 1, 2], dtype=int64)"
      ]
     },
     "execution_count": 50,
     "metadata": {},
     "output_type": "execute_result"
    }
   ],
   "source": [
    "HR_Analytics['WorkLifeBalance'].unique()"
   ]
  },
  {
   "cell_type": "code",
   "execution_count": 51,
   "id": "50b0ee40-1cd7-4faf-b667-3ea40bbb9f98",
   "metadata": {},
   "outputs": [],
   "source": [
    "work_life_map = {\n",
    "    1: 'Poor',\n",
    "    2: 'Fair',\n",
    "    3: 'Good',\n",
    "    4: 'Excellent'\n",
    "}"
   ]
  },
  {
   "cell_type": "code",
   "execution_count": 52,
   "id": "63863645-2dfa-4f7c-bb7c-7cdf824afde5",
   "metadata": {},
   "outputs": [],
   "source": [
    "HR_Analytics['WorkLifeLabel'] = HR_Analytics['WorkLifeBalance'].map(work_life_map)"
   ]
  },
  {
   "cell_type": "code",
   "execution_count": 53,
   "id": "dabc2009-0b71-4e6c-81b9-7dd5196fe7ea",
   "metadata": {},
   "outputs": [
    {
     "data": {
      "text/plain": [
       "array(['Good', 'Excellent', 'Poor', 'Fair'], dtype=object)"
      ]
     },
     "execution_count": 53,
     "metadata": {},
     "output_type": "execute_result"
    }
   ],
   "source": [
    "HR_Analytics['WorkLifeLabel'].unique()"
   ]
  },
  {
   "cell_type": "code",
   "execution_count": 54,
   "id": "69208bca-6295-46a6-92c5-9301e7429acd",
   "metadata": {},
   "outputs": [
    {
     "data": {
      "text/plain": [
       "Index(['EmpID', 'Age', 'AgeGroup', 'Attrition', 'BusinessTravel', 'DailyRate',\n",
       "       'Department', 'DistanceFromHome', 'Education', 'EducationField',\n",
       "       'EnvSatisfaction', 'Gender', 'HourlyRate', 'JobInvolvement', 'JobLevel',\n",
       "       'JobRole', 'JobSatisfy_Level', 'MaritalStatus', 'MonthlyIncome',\n",
       "       'MonthlyRate', 'NumCompaniesWorked', 'OverTime', 'PercentSalaryHike',\n",
       "       'PerformanceScore', 'RelationshipSatisfaction', 'StockOptionLevel',\n",
       "       'TotalWorkingYears', 'TrainingTimesLastYear', 'WorkLifeBalance',\n",
       "       'YearsAtCompany', 'YearsInCurrentRole', 'YearsSinceLastPromotion',\n",
       "       'YearsWithCurrManager', 'Education_Level', 'JobLevelLabel',\n",
       "       'JobInvolveLabel', 'JobSatisfy_Label', 'PerformanceLabel',\n",
       "       'StockOptionLevel_Description', 'TrainingsLastYear_Label',\n",
       "       'RelationshipSatisfaction_Label', 'WorkLifeLabel'],\n",
       "      dtype='object')"
      ]
     },
     "execution_count": 54,
     "metadata": {},
     "output_type": "execute_result"
    }
   ],
   "source": [
    "HR_Analytics.columns"
   ]
  },
  {
   "cell_type": "code",
   "execution_count": 55,
   "id": "d22efbed-d22c-47db-ba3c-123afa25c37d",
   "metadata": {},
   "outputs": [],
   "source": [
    "HR_Analytics.to_csv(\"cleaned_HR.csv\", index=False)"
   ]
  },
  {
   "cell_type": "code",
   "execution_count": 56,
   "id": "9b257bdd-0421-42e5-b4a5-90e6a84ac990",
   "metadata": {},
   "outputs": [],
   "source": [
    "#HR_Analytics"
   ]
  },
  {
   "cell_type": "code",
   "execution_count": 57,
   "id": "3b1cd969-efc6-4242-99db-6fc8e488cab7",
   "metadata": {},
   "outputs": [],
   "source": [
    "HR_Analytics.drop(columns=['Education', 'JobLevel', 'JobInvolvement', 'JobSatisfy_Level', 'PerformanceScore', 'StockOptionLevel','TrainingTimesLastYear', 'RelationshipSatisfaction', 'WorkLifeBalance'], inplace= True)"
   ]
  },
  {
   "cell_type": "code",
   "execution_count": 58,
   "id": "dab86ab8-7cca-4c0b-b5c9-336d5a9f3c6c",
   "metadata": {},
   "outputs": [
    {
     "data": {
      "text/plain": [
       "Index(['EmpID', 'Age', 'AgeGroup', 'Attrition', 'BusinessTravel', 'DailyRate',\n",
       "       'Department', 'DistanceFromHome', 'EducationField', 'EnvSatisfaction',\n",
       "       'Gender', 'HourlyRate', 'JobRole', 'MaritalStatus', 'MonthlyIncome',\n",
       "       'MonthlyRate', 'NumCompaniesWorked', 'OverTime', 'PercentSalaryHike',\n",
       "       'TotalWorkingYears', 'YearsAtCompany', 'YearsInCurrentRole',\n",
       "       'YearsSinceLastPromotion', 'YearsWithCurrManager', 'Education_Level',\n",
       "       'JobLevelLabel', 'JobInvolveLabel', 'JobSatisfy_Label',\n",
       "       'PerformanceLabel', 'StockOptionLevel_Description',\n",
       "       'TrainingsLastYear_Label', 'RelationshipSatisfaction_Label',\n",
       "       'WorkLifeLabel'],\n",
       "      dtype='object')"
      ]
     },
     "execution_count": 58,
     "metadata": {},
     "output_type": "execute_result"
    }
   ],
   "source": [
    "HR_Analytics.columns"
   ]
  },
  {
   "cell_type": "code",
   "execution_count": 61,
   "id": "fccea493-99d9-4e6b-b217-a1ed90f80163",
   "metadata": {},
   "outputs": [],
   "source": [
    "HR_Analytics.to_csv(\"cleaned_HR.csv\", index=False)"
   ]
  },
  {
   "cell_type": "code",
   "execution_count": null,
   "id": "e52c7fa3-b79d-4d1d-a21a-39b48320bc4c",
   "metadata": {},
   "outputs": [],
   "source": []
  }
 ],
 "metadata": {
  "kernelspec": {
   "display_name": "Python [conda env:base] *",
   "language": "python",
   "name": "conda-base-py"
  },
  "language_info": {
   "codemirror_mode": {
    "name": "ipython",
    "version": 3
   },
   "file_extension": ".py",
   "mimetype": "text/x-python",
   "name": "python",
   "nbconvert_exporter": "python",
   "pygments_lexer": "ipython3",
   "version": "3.12.7"
  }
 },
 "nbformat": 4,
 "nbformat_minor": 5
}
